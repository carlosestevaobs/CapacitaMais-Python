{
 "cells": [
  {
   "cell_type": "markdown",
   "id": "c3308ec5",
   "metadata": {},
   "source": [
    "# Aula TKinter"
   ]
  },
  {
   "cell_type": "markdown",
   "id": "9772d0f7",
   "metadata": {},
   "source": [
    "### Exemplo 1 - usando o gerenciador pack"
   ]
  },
  {
   "cell_type": "code",
   "execution_count": null,
   "id": "4d8a5e59",
   "metadata": {},
   "outputs": [],
   "source": [
    "# importar todos os métodos da biblioteca TKinter\n",
    "from tkinter import *\n",
    "\n",
    "# cria uma instância de TK\n",
    "janela = Tk()\n",
    "janela.title(\"Exemplo 1\")\n",
    "\n",
    "# criar um label\n",
    "Label(janela, text=\"Olá pessoal!\").pack()\n",
    "\n",
    "# configurar o tamanho da janela\n",
    "# largura x altura + distância da esquerda do vídeo + distância do topo\n",
    "janela.geometry(\"500x300+700+300\")\n",
    "\n",
    "# executar a janela criada\n",
    "janela.mainloop()"
   ]
  },
  {
   "cell_type": "markdown",
   "id": "3144bf3e",
   "metadata": {},
   "source": [
    "### Exemplo 2 - usando o gerenciador place"
   ]
  },
  {
   "cell_type": "code",
   "execution_count": null,
   "id": "be9eca75",
   "metadata": {},
   "outputs": [],
   "source": [
    "# importar todos os métodos da biblioteca TKinter\n",
    "from tkinter import *\n",
    "\n",
    "# cria uma instância de TK\n",
    "janela = Tk()\n",
    "janela.title(\"Exemplo 2\")\n",
    "\n",
    "# lb recebe o label criado\n",
    "lb = Label(janela, text=\"Exemplo2\")\n",
    "\n",
    "# adicionar na tela\n",
    "lb.place(x = 220, y = 30)\n",
    "\n",
    "# configurar o tamanho da janela\n",
    "# largura x altura + distância da esquerda do vídeo + distância do topo\n",
    "janela.geometry(\"500x300+700+300\")\n",
    "\n",
    "# executar a janela criada\n",
    "janela.mainloop()"
   ]
  },
  {
   "cell_type": "markdown",
   "id": "8663708a",
   "metadata": {},
   "source": [
    "### Exemplo 3 - usando o gerenciador place - botões"
   ]
  },
  {
   "cell_type": "code",
   "execution_count": null,
   "id": "5b21a456",
   "metadata": {},
   "outputs": [],
   "source": [
    "from tkinter import *\n",
    "\n",
    "def bt_clique():\n",
    "   # print(\"Você clicou no botão\")\n",
    "    lb[\"text\"] = \"Você clicou no botão\"\n",
    "\n",
    "janela = Tk()\n",
    "\n",
    "bt = Button(janela, width=30, text=\"Clique aqui\", bg=\"brown\", command=bt_clique)\n",
    "\n",
    "lb = Label(janela)\n",
    "\n",
    "bt.place(x = 50, y = 100)\n",
    "lb.place(x = 50, y = 130)\n",
    "\n",
    "janela.geometry(\"500x400+500+300\")\n",
    "janela.mainloop()"
   ]
  },
  {
   "cell_type": "markdown",
   "id": "10a8590f",
   "metadata": {},
   "source": [
    "### Exemplo 4 - usando o gerenciador place - função com vários botões"
   ]
  },
  {
   "cell_type": "code",
   "execution_count": null,
   "id": "c85e9ebf",
   "metadata": {},
   "outputs": [],
   "source": [
    "from tkinter import *\n",
    "from functools import partial\n",
    "\n",
    "janela = Tk()\n",
    "\n",
    "def clique(botao):\n",
    "    print(botao[\"text\"])\n",
    "\n",
    "# criação dos botões\n",
    "botao1 = Button(janela, width=20, text=\"Botão 1\")\n",
    "botao2 = Button(janela, width=20, text=\"Botão 2\")\n",
    "\n",
    "# configuração de uma ação por botão\n",
    "botao1[\"command\"] = partial(clique, botao1)\n",
    "botao2[\"command\"] = partial(clique, botao2)\n",
    "\n",
    "# posição dos botões\n",
    "botao1.place(x = 100, y = 150)\n",
    "botao2.place(x = 100, y = 200)\n",
    "\n",
    "janela.title(\"Exemplo 4\")\n",
    "janela.geometry(\"500x400+500+300\")\n",
    "janela.mainloop()"
   ]
  },
  {
   "cell_type": "markdown",
   "id": "dd331d2f",
   "metadata": {},
   "source": [
    "### Exemplo 5 - usando o gerenciador place - campo de texto"
   ]
  },
  {
   "cell_type": "code",
   "execution_count": null,
   "id": "42b0095a",
   "metadata": {},
   "outputs": [],
   "source": [
    "from tkinter import *\n",
    "\n",
    "janela = Tk()\n",
    "\n",
    "entrada = Entry(janela)\n",
    "entrada.place(x = 100, y = 50)\n",
    "\n",
    "janela.geometry(\"500x500+500+400\")\n",
    "janela.mainloop()"
   ]
  },
  {
   "cell_type": "markdown",
   "id": "3b5d4ccf",
   "metadata": {},
   "source": [
    "# Exercício"
   ]
  },
  {
   "cell_type": "markdown",
   "id": "b22f28c4",
   "metadata": {},
   "source": [
    "### Criar um formulário de cadastro com os campos: nome, CPF, data de nascimento e um botão para enviar. "
   ]
  },
  {
   "cell_type": "code",
   "execution_count": null,
   "id": "e389bdaa",
   "metadata": {},
   "outputs": [],
   "source": [
    "from tkinter import *\n",
    "\n",
    "janela = Tk()\n",
    "\n",
    "\n",
    "lb_nome = Label(janela, text=\"Nome: \")\n",
    "tf_nome = Entry(janela)\n",
    "\n",
    "lb_cpf = Label(janela, text=\"CPF: \")\n",
    "tf_cpf = Entry(janela)\n",
    "\n",
    "lb_dn = Label(janela, text=\"DN: \")\n",
    "tf_dn = Entry(janela)\n",
    "\n",
    "bt_enviar = Button(janela, text=\"Enviar\", width=30)\n",
    "\n",
    "lb_nome.place(x = 30, y = 30)\n",
    "tf_nome.place(x = 75, y = 30)\n",
    "\n",
    "lb_cpf.place(x = 30, y = 70)\n",
    "tf_cpf.place(x = 75, y = 70)\n",
    "\n",
    "lb_dn.place(x = 30, y = 110)\n",
    "tf_dn.place(x = 75, y = 110)\n",
    "\n",
    "bt_enviar.place(x = 30, y = 150)\n",
    "\n",
    "janela.title(\"Formulário de cadastro\")\n",
    "janela.geometry(\"500x500+500+400\")\n",
    "janela.mainloop()"
   ]
  },
  {
   "cell_type": "markdown",
   "id": "bbaece1e",
   "metadata": {},
   "source": [
    "### Exemplo 6 - usando o gerenciador place - recebendo os dados"
   ]
  },
  {
   "cell_type": "code",
   "execution_count": null,
   "id": "21df78bd",
   "metadata": {},
   "outputs": [],
   "source": [
    "from tkinter import *\n",
    "\n",
    "janela = Tk()\n",
    "\n",
    "def somar():\n",
    "    valor1 = int(ent1.get())\n",
    "    valor2 = int(ent2.get())\n",
    "    resultado[\"text\"] = valor1 + valor2\n",
    "\n",
    "ent1 = Entry(janela)\n",
    "ent1.place(x = 100, y = 100)\n",
    "\n",
    "ent2 = Entry(janela)\n",
    "ent2.place(x = 100, y = 150)\n",
    "\n",
    "botao = Button(janela, text=\"Somar\", command=somar)\n",
    "botao.place(x = 100, y = 200)\n",
    "\n",
    "resultado = Label(janela)\n",
    "resultado.place(x = 100, y = 250)\n",
    "\n",
    "janela.title(\"Entrada de dados\")\n",
    "janela.geometry(\"500x500+500+400\")\n",
    "janela.mainloop()"
   ]
  },
  {
   "cell_type": "markdown",
   "id": "7f00ef76",
   "metadata": {},
   "source": [
    "### Exemplo 7 - usando o gerenciador pack - mais detalhes"
   ]
  },
  {
   "cell_type": "code",
   "execution_count": null,
   "id": "83bccdc9",
   "metadata": {},
   "outputs": [],
   "source": [
    "from tkinter import *\n",
    "\n",
    "\n",
    "janela = Tk()\n",
    "\n",
    "titulo = Label(janela, text= \"MEU SISTEMA\", bg=\"#836FFF\")\n",
    "titulo.pack(side = TOP, fill=X)\n",
    "\n",
    "\n",
    "janela['bg'] = \"#1F1F1F\"\n",
    "#janela.resizable(FALSE, FALSE)\n",
    "janela.iconbitmap(\"imagens/icone.ico\")\n",
    "#janela.state('zoomed')\n",
    "\n",
    "janela.minsize(200, 200)\n",
    "janela.maxsize(400, 400)\n",
    "\n",
    "janela.title(\"Entrada de dados\")\n",
    "janela.geometry(\"500x500+500+400\")\n",
    "janela.mainloop()"
   ]
  },
  {
   "cell_type": "markdown",
   "id": "189ae4e9",
   "metadata": {},
   "source": [
    "### Exemplo 8 - usando o gerenciador grid"
   ]
  },
  {
   "cell_type": "code",
   "execution_count": null,
   "id": "17e6955e",
   "metadata": {},
   "outputs": [],
   "source": [
    "from tkinter import *\n",
    "\n",
    "janela = Tk()\n",
    "\n",
    "label = Label(janela, text=\"Label 1\")\n",
    "label2 = Label(janela, text=\"Label 2\")\n",
    "\n",
    "label3 = Label(janela, text=\"Label 3\")\n",
    "\n",
    "\n",
    "label.grid(row = 100, column = 200)\n",
    "label2.grid(row = 1, column = 50)\n",
    "label3.grid(row = 50, column = 100)\n",
    "\n",
    "\n",
    "\n",
    "janela.iconbitmap(\"imagens/icone.ico\")\n",
    "janela.title(\"Gerenciador Grid\")\n",
    "janela.geometry(\"500x300+500+400\")\n",
    "janela.mainloop()"
   ]
  },
  {
   "cell_type": "markdown",
   "id": "31c69bc1",
   "metadata": {},
   "source": [
    "### Exemplo 9 - Imagens e botão de fechar"
   ]
  },
  {
   "cell_type": "code",
   "execution_count": null,
   "id": "86b29a32",
   "metadata": {},
   "outputs": [],
   "source": [
    "from tkinter import *\n",
    "from PIL import ImageTk, Image\n",
    "\n",
    "\n",
    "janela = Tk()\n",
    "janela.title(\"Exemplo 9\")\n",
    "janela.iconbitmap(\"imagens/icone.ico\")\n",
    "\n",
    "# inserir imagem:\n",
    "imagem = ImageTk.PhotoImage(Image.open(\"imagens/Python-icon.png\"))\n",
    "imagemL = Label(image=imagem)\n",
    "imagemL.grid(row=1, column=1)\n",
    "\n",
    "# botão de sair\n",
    "botaoSair = Button(janela, text=\"sair\", command=janela.destroy)\n",
    "botaoSair.grid(row=2, column=1)\n",
    "\n",
    "janela.mainloop()"
   ]
  },
  {
   "cell_type": "markdown",
   "id": "a23e5e9f",
   "metadata": {},
   "source": [
    "### Exemplo 10 - Frame e botão de fechar com confirmação"
   ]
  },
  {
   "cell_type": "code",
   "execution_count": null,
   "id": "aac72042",
   "metadata": {},
   "outputs": [],
   "source": [
    "from tkinter import *\n",
    "\n",
    "def Confirm(): \n",
    "    confirmacao = Toplevel(janela)\n",
    "    texto = Label(confirmacao, text=\"Deseja realmente sair?\").pack()\n",
    "    botaoSim = Button(confirmacao, text=\"Sim\", command=janela.destroy).pack()\n",
    "    botaoNao = Button(confirmacao, text=\"Não\", command=confirmacao.destroy).pack()\n",
    "\n",
    "janela = Tk()\n",
    "janela.title(\"Exemplo 10\")\n",
    "janela.iconbitmap(\"imagens/icone.ico\")\n",
    "\n",
    "frame = LabelFrame(janela, text=\"Cadastro de clientes\", padx=50, pady=50)\n",
    "frame.pack(padx=10, pady=10)\n",
    "\n",
    "botaoSair = Button(frame, text=\"sair\", command=Confirm)\n",
    "botaoSair.grid(row=0, column=0)\n",
    "\n",
    "janela.mainloop()"
   ]
  },
  {
   "cell_type": "markdown",
   "id": "5aa5f385",
   "metadata": {},
   "source": [
    "### Exemplo 11 - Barra de menus"
   ]
  },
  {
   "cell_type": "code",
   "execution_count": null,
   "id": "76e3f96f",
   "metadata": {},
   "outputs": [],
   "source": [
    "from tkinter import *\n",
    "\n",
    "janela = Tk()\n",
    "janela.title(\"Exemplo 10\")\n",
    "janela.iconbitmap(\"imagens/icone.ico\")\n",
    "\n",
    "menubar = Menu(janela)\n",
    "# menu de cadastros\n",
    "Cadastros = Menu(menubar, tearoff=0)\n",
    "Cadastros.add_command(label=\"Clientes\")\n",
    "Cadastros.add_command(label=\"Funcionários\")\n",
    "Cadastros.add_separator()\n",
    "Cadastros.add_command(label=\"Sair\")\n",
    "\n",
    "# menu de relatórios\n",
    "Relatorios = Menu(menubar, tearoff=0)\n",
    "Relatorios.add_command(label=\"Vendas\")\n",
    "\n",
    "# inserindo os menus\n",
    "menubar.add_cascade(label=\"Cadastros\", menu=Cadastros)\n",
    "menubar.add_cascade(label=\"Relatórios\", menu=Relatorios)\n",
    "\n",
    "janela.config(menu=menubar)\n",
    "janela.mainloop()"
   ]
  },
  {
   "cell_type": "markdown",
   "id": "b389d57a",
   "metadata": {},
   "source": [
    "### Exemplo 12 - Frames (como telas)"
   ]
  },
  {
   "cell_type": "code",
   "execution_count": null,
   "id": "400b3643",
   "metadata": {},
   "outputs": [],
   "source": [
    "from tkinter import *\n",
    "\n",
    "janela = Tk()\n",
    "janela.title(\"Exemplo 12\")\n",
    "janela.geometry(\"900x700\")\n",
    "\n",
    "menubar = Menu(janela)\n",
    "\n",
    "def frame1():\n",
    "    esconderFrames()\n",
    "    frame1.pack(fill=\"both\", expand=1)\n",
    "\n",
    "\n",
    "def frame2():\n",
    "    esconderFrames()\n",
    "    frame2.pack(fill=\"both\", expand=1)\n",
    "\n",
    "def esconderFrames():\n",
    "    frame1.pack_forget()\n",
    "    frame2.pack_forget()\n",
    "    \n",
    "    \n",
    "# criação do menu\n",
    "arquivo = Menu(menubar, tearoff=0)\n",
    "arquivo.add_command(label=\"Abrir\", command=frame1)\n",
    "arquivo.add_command(label=\"Novo\", command=frame2)\n",
    "arquivo.add_separator()\n",
    "arquivo.add_command(label=\"Sair\")\n",
    "\n",
    "menubar.add_cascade(label=\"Arquivo\", menu=arquivo)\n",
    "\n",
    "janela.config(menu=menubar)\n",
    "\n",
    "# criar os frames\n",
    "frame1 = Frame(janela, width=900, height=700, bg='gray')\n",
    "label1 = Label(frame1, text=\"Este é o frame 1\")\n",
    "label1.pack()\n",
    "\n",
    "frame2 = Frame(janela, width=900, height=700, bg='brown')\n",
    "label2 = Label(frame2, text=\"Olá mundo!\")\n",
    "label2.pack()\n",
    "\n",
    "janela.mainloop()"
   ]
  },
  {
   "cell_type": "markdown",
   "id": "116655d6",
   "metadata": {},
   "source": [
    "### Exemplo 13 - Tabelas"
   ]
  },
  {
   "cell_type": "code",
   "execution_count": null,
   "id": "01a7ca46",
   "metadata": {},
   "outputs": [],
   "source": [
    "from tkinter import *\n",
    "\n",
    "janela = Tk()\n",
    "\n",
    "linhas = 5\n",
    "colunas = 4\n",
    "\n",
    "for i in range(linhas):\n",
    "    for j in range(colunas):\n",
    "        entrada = Entry(janela, text=\"\")\n",
    "        entrada.grid(row=i, column=j)\n",
    "mainloop()"
   ]
  },
  {
   "cell_type": "markdown",
   "id": "a2891557",
   "metadata": {},
   "source": [
    "### Exemplo 14 - ttkbootstrap"
   ]
  },
  {
   "cell_type": "code",
   "execution_count": 18,
   "id": "2b703143",
   "metadata": {},
   "outputs": [],
   "source": [
    "# pip install ttkbootstrap\n",
    "\n",
    "from PIL import ImageDraw, Image, ImageTk\n",
    "from tkinter import *\n",
    "from ttkbootstrap import Style\n",
    "\n",
    "style = Style('darkly')\n",
    "\n",
    "janela = style.master\n",
    "janela.geometry(\"800x600\")\n",
    "\n",
    "\n",
    "botao = ttk.Button(janela, text=\"Salvar\", style=\"warning.Outline.TButton\").pack()\n",
    "\n",
    "\n",
    "frame = LabelFrame(janela, text=\"botões de checar\", padx=50, pady=50)\n",
    "frame.pack(padx=10, pady=10)\n",
    "\n",
    "radio1 = ttk.Checkbutton(frame, text=\"radio 1\").pack()\n",
    "radio2 = ttk.Checkbutton(frame, text=\"radio 2\", style='Toolbutton').pack()\n",
    "radio3 = ttk.Checkbutton(frame, text=\"radio 3\", style='warning.Outline.Toolbutton').pack()\n",
    "radio4 = ttk.Checkbutton(frame, text=\"radio 4\", style='Squaretoggle.Toolbutton').pack()\n",
    "radio5 = ttk.Checkbutton(frame, text=\"radio 5\", style='Roundtoggle.Toolbutton').pack()\n",
    "radio6 = ttk.Checkbutton(frame, text=\"radio 6\", style='Outline.Toolbutton').pack()\n",
    "radio7 = ttk.Checkbutton(frame, text=\"radio 7\", style='info.TCheckbutton').pack()\n",
    "\n",
    "janela.mainloop()"
   ]
  },
  {
   "cell_type": "markdown",
   "id": "03abb63b",
   "metadata": {},
   "source": [
    "### Exemplo 15 - conexão com o banco de dados"
   ]
  },
  {
   "cell_type": "code",
   "execution_count": 6,
   "id": "88971591",
   "metadata": {},
   "outputs": [
    {
     "name": "stdout",
     "output_type": "stream",
     "text": [
      "[(1, 'Rozimilson', '88-98987-4568'), (2, 'Romário', '85-99999-3545')]\n",
      "conexão encerrada\n"
     ]
    }
   ],
   "source": [
    "import mysql.connector\n",
    "from mysql.connector import Error\n",
    "\n",
    "try:\n",
    "    # conexão com o banco de dados\n",
    "    conexao = mysql.connector.connect(host='localhost', \n",
    "                                      database='alugueis', \n",
    "                                      user='root', \n",
    "                                      password='')\n",
    "    \n",
    "    if (conexao.is_connected()):\n",
    "        #print(\"conectou\")\n",
    "        # objeto para realizar manipulações com o banco de dados\n",
    "        cursor = conexao.cursor()\n",
    "        # realizar manipulação em banco de dados\n",
    "        cursor.execute(\"Select * from tb_proprietario\")\n",
    "        # pegar os registros encontrados\n",
    "        registros = cursor.fetchall()\n",
    "        print(registros)   \n",
    "    \n",
    "except Error as erro:\n",
    "    print(\"Erro: \", erro)\n",
    "    \n",
    "finally:\n",
    "     if (conexao.is_connected()):\n",
    "            cursor.close()\n",
    "            conexao.close()\n",
    "            print(\"conexão encerrada\")"
   ]
  },
  {
   "cell_type": "code",
   "execution_count": 48,
   "id": "0029f5df",
   "metadata": {},
   "outputs": [],
   "source": [
    "from tkinter import *\n",
    "from ttkbootstrap import Style\n",
    "\n",
    "janela = Tk()\n",
    "janela.title(\"Exemplo 16\")\n",
    "janela.resizable(FALSE, FALSE)\n",
    "janela.iconbitmap(\"imagens/icone.ico\")\n",
    "janela.geometry(\"650x350\")\n",
    "\n",
    "style = Style(\"pulse\")\n",
    "janela = style.master\n",
    "\n",
    "def Sair():\n",
    "    confirmacao = Toplevel(janela)\n",
    "    confirmacao.title(\"Confirmação\")\n",
    "    confirmacao.iconbitmap(\"imagens/icone.ico\")\n",
    "    lb_texto = ttk.Label(confirmacao, \n",
    "                   text=\"Deseja realmente sair?\",                     \n",
    "                   padding=(0, 15, 0, 15)).grid(row = 0, column = 0, columnspan=2)    \n",
    "    bt_Sim = ttk.Button(confirmacao, text=\"Sim\", style=\"success.TButton\", \n",
    "                        padding=(25, 10, 25, 10), command=janela.destroy).grid(row = 1, column = 0) \n",
    "    bt_Nao = ttk.Button(confirmacao, text=\"Não\", style=\"danger.TButton\", \n",
    "                        padding=(25, 10, 25, 10), command=confirmacao.destroy).grid(row = 1, column = 1) \n",
    "    \n",
    "\n",
    "# elementos\n",
    "titulo = ttk.Label(janela, \n",
    "                   text=\"Cadastro de pessoas\", \n",
    "                   style=\"success.Inverse.TLabel\", \n",
    "                   padding=(100, 30, 300, 30),\n",
    "                   font=('Helvetica', 18))\n",
    "\n",
    "lb_codigo = ttk.Label(janela, \n",
    "                   text=\"Código\",                     \n",
    "                   padding=(0, 15, 0, 15))\n",
    "\n",
    "tf_codigo = ttk.Entry(janela, style=\"success.TEntry\", width = 50, state=\"readonly\")\n",
    "\n",
    "\n",
    "lb_nome = ttk.Label(janela, \n",
    "                   text=\"Nome\",                     \n",
    "                   padding=(0, 15, 0, 15))\n",
    "\n",
    "tf_nome = ttk.Entry(janela, style=\"success.TEntry\", width = 50)\n",
    "\n",
    "lb_telefone = ttk.Label(janela, \n",
    "                   text=\"Telefone\",                     \n",
    "                   padding=(0, 15, 0, 15))\n",
    "\n",
    "tf_telefone = ttk.Entry(janela, style=\"success.TEntry\", width = 50)\n",
    "\n",
    "bt_salvar = ttk.Button(janela, text=\"Salvar\", style=\"success.TButton\", padding=(25, 10, 25, 10))\n",
    "bt_sair = ttk.Button(janela, text=\"Sair\", style=\"danger.TButton\", padding=(25, 10, 25, 10), command=Sair)\n",
    "\n",
    "# posições\n",
    "titulo.grid(row = 0, column = 0, columnspan=2)\n",
    "lb_codigo.grid(row = 1, column = 0)\n",
    "tf_codigo.grid(row = 1, column = 1)\n",
    "lb_nome.grid(row = 2, column = 0)\n",
    "tf_nome.grid(row = 2, column = 1)\n",
    "lb_telefone.grid(row = 3, column = 0)\n",
    "tf_telefone.grid(row = 3, column = 1)\n",
    "bt_salvar.grid(row = 4, column = 0, columnspan=2)\n",
    "bt_sair.grid(row = 4, column = 1)\n",
    "\n",
    "\n",
    "janela.mainloop()"
   ]
  },
  {
   "cell_type": "code",
   "execution_count": null,
   "id": "d8d8f67e",
   "metadata": {},
   "outputs": [],
   "source": []
  }
 ],
 "metadata": {
  "kernelspec": {
   "display_name": "Python 3",
   "language": "python",
   "name": "python3"
  },
  "language_info": {
   "codemirror_mode": {
    "name": "ipython",
    "version": 3
   },
   "file_extension": ".py",
   "mimetype": "text/x-python",
   "name": "python",
   "nbconvert_exporter": "python",
   "pygments_lexer": "ipython3",
   "version": "3.8.5"
  }
 },
 "nbformat": 4,
 "nbformat_minor": 5
}
