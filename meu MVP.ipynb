{
 "cells": [
  {
   "cell_type": "markdown",
   "id": "c9fdf534",
   "metadata": {},
   "source": [
    "# Meu MVP - exemplo dado em aula"
   ]
  },
  {
   "cell_type": "markdown",
   "id": "83d32bb0",
   "metadata": {},
   "source": [
    "### Importar as classes"
   ]
  },
  {
   "cell_type": "code",
   "execution_count": 1,
   "id": "ed1061b9",
   "metadata": {},
   "outputs": [],
   "source": [
    "from tkinter import *\n",
    "from tkinter import ttk\n",
    "from ttkbootstrap import Style\n",
    "import mysql.connector\n",
    "from mysql.connector import Error\n",
    "import numpy as np"
   ]
  },
  {
   "cell_type": "markdown",
   "id": "2ec6200f",
   "metadata": {},
   "source": [
    "### Criação da janela principal"
   ]
  },
  {
   "cell_type": "code",
   "execution_count": 2,
   "id": "6c6c53e4",
   "metadata": {},
   "outputs": [],
   "source": [
    "root = Tk()"
   ]
  },
  {
   "cell_type": "markdown",
   "id": "00714ed7",
   "metadata": {},
   "source": [
    "### Conexão com o banco de dados "
   ]
  },
  {
   "cell_type": "code",
   "execution_count": 3,
   "id": "1b85a8e0",
   "metadata": {},
   "outputs": [],
   "source": [
    "def connectar():\n",
    "    try:\n",
    "        # conexão com o banco de dados\n",
    "        conexao = mysql.connector.connect(host='localhost', \n",
    "                                          database='alugueis', \n",
    "                                          user='root', \n",
    "                                          password='')\n",
    "\n",
    "        return conexao\n",
    "\n",
    "    except Error as erro:\n",
    "        print(\"Erro: \", erro)"
   ]
  },
  {
   "cell_type": "markdown",
   "id": "a1ee2f06",
   "metadata": {},
   "source": [
    "### Salvar no banco de dados"
   ]
  },
  {
   "cell_type": "code",
   "execution_count": 4,
   "id": "64e3c46b",
   "metadata": {},
   "outputs": [],
   "source": [
    "def salvarNoBD():\n",
    "    conexao = connectar()\n",
    "    if (conexao.is_connected()):\n",
    "        #print(\"conectou\")\n",
    "        # objeto para realizar manipulações com o banco de dados\n",
    "        cursor = conexao.cursor()\n",
    "        # realizar inserção em banco de dados\n",
    "        sql = \"INSERT INTO tb_proprietario (pro_nome, pro_telefone) VALUES (%s, %s)\";\n",
    "        valores = (tf_nome.get(), tf_telefone.get())\n",
    "        cursor.execute(sql, valores)\n",
    "        cursor.close()\n",
    "        conexao.close()"
   ]
  },
  {
   "cell_type": "markdown",
   "id": "fad0234a",
   "metadata": {},
   "source": [
    "### Carregar do banco de dados"
   ]
  },
  {
   "cell_type": "code",
   "execution_count": 5,
   "id": "7578f154",
   "metadata": {},
   "outputs": [],
   "source": [
    "def carregarDoDB():\n",
    "    conexao = connectar()\n",
    "    if (conexao.is_connected()):\n",
    "        #print(\"conectou\")\n",
    "        # objeto para realizar manipulações com o banco de dados\n",
    "        cursor = conexao.cursor()\n",
    "        # realizar busca em banco de dados        \n",
    "        cursor.execute(\"Select * from tb_proprietario\")\n",
    "        registros = cursor.fetchall()\n",
    "        cursor.close()\n",
    "        conexao.close()\n",
    "        return registros"
   ]
  },
  {
   "cell_type": "markdown",
   "id": "fb05a8be",
   "metadata": {},
   "source": [
    "### Chamar o Formulário de Salvar"
   ]
  },
  {
   "cell_type": "code",
   "execution_count": 6,
   "id": "2e345380",
   "metadata": {},
   "outputs": [],
   "source": [
    "def AbrirFormSalvar():\n",
    "    RemoverFrames()\n",
    "    formSalvar.grid(row = 0, column = 0, columnspan = 2)"
   ]
  },
  {
   "cell_type": "markdown",
   "id": "39b47f34",
   "metadata": {},
   "source": [
    "### Ocultar frames"
   ]
  },
  {
   "cell_type": "code",
   "execution_count": 7,
   "id": "aa98d3fd",
   "metadata": {},
   "outputs": [],
   "source": [
    "def RemoverFrames():\n",
    "    formSalvar.grid_remove()\n",
    "    formRegistros.grid_remove()"
   ]
  },
  {
   "cell_type": "markdown",
   "id": "23b36e4d",
   "metadata": {},
   "source": [
    "### Chamar o Formulário de Visualizar"
   ]
  },
  {
   "cell_type": "code",
   "execution_count": 8,
   "id": "36ce3582",
   "metadata": {},
   "outputs": [],
   "source": [
    "def AbrirFormRegistros():\n",
    "    RemoverFrames()\n",
    "    formRegistros.grid(row = 0, column = 0, columnspan = 2)\n",
    "    registros = np.asarray(carregarDoDB())\n",
    "    # limpar o treeview\n",
    "    for i in dados.get_children():\n",
    "        dados.delete(i)\n",
    "    # alimentar o treeview\n",
    "    for i in range(registros.shape[0]):\n",
    "        dados.insert(parent='', index = 0, values=(registros[i][0], registros[i][1], registros[i][2]))\n",
    "    "
   ]
  },
  {
   "cell_type": "markdown",
   "id": "413a4c0a",
   "metadata": {},
   "source": [
    "### Sair"
   ]
  },
  {
   "cell_type": "code",
   "execution_count": 9,
   "id": "45fe8005",
   "metadata": {},
   "outputs": [],
   "source": [
    "def Sair():\n",
    "    confirmacao = Toplevel(root)\n",
    "    confirmacao.title(\"Confirmação\")\n",
    "    confirmacao.iconbitmap(\"imagens/icone.ico\")\n",
    "    lb_texto = ttk.Label(confirmacao, \n",
    "                   text=\"Deseja realmente sair?\",                     \n",
    "                   padding=(0, 15, 0, 15)).grid(row = 0, column = 0, columnspan=2)    \n",
    "    bt_Sim = ttk.Button(confirmacao, text=\"Sim\", style=\"success.TButton\", \n",
    "                        padding=(25, 10, 25, 10), command=root.destroy).grid(row = 1, column = 0) \n",
    "    bt_Nao = ttk.Button(confirmacao, text=\"Não\", style=\"danger.TButton\", \n",
    "                        padding=(25, 10, 25, 10), command=confirmacao.destroy).grid(row = 1, column = 1) \n",
    "    \n"
   ]
  },
  {
   "cell_type": "markdown",
   "id": "109dadd4",
   "metadata": {},
   "source": [
    "### Elaboração do menu"
   ]
  },
  {
   "cell_type": "code",
   "execution_count": 10,
   "id": "114dbfc9",
   "metadata": {},
   "outputs": [],
   "source": [
    "menubar = Menu(root)\n",
    "\n",
    "root.config(menu = menubar)\n",
    "\n",
    "MenuProp = Menu(menubar, tearoff=0)\n",
    "MenuProp.add_command(label = \"Cadastrar\", command=AbrirFormSalvar)\n",
    "MenuProp.add_command(label = \"Visualizar\", command=AbrirFormRegistros)\n",
    "MenuProp.add_separator()\n",
    "MenuProp.add_command(label = \"Sair\", command=Sair)\n",
    "\n",
    "menubar.add_cascade(label = \"Proprietários\", menu = MenuProp)\n"
   ]
  },
  {
   "cell_type": "markdown",
   "id": "deff4113",
   "metadata": {},
   "source": [
    "### Formulário de salvar"
   ]
  },
  {
   "cell_type": "code",
   "execution_count": 11,
   "id": "ef2d0cae",
   "metadata": {},
   "outputs": [],
   "source": [
    "formSalvar = ttk.Frame(root, width=400, height=400)\n",
    "\n",
    "# elementos\n",
    "titulo = ttk.Label(formSalvar, \n",
    "                   text=\"Cadastro de pessoas\", \n",
    "                   style=\"success.Inverse.TLabel\", \n",
    "                   padding=(100, 30, 300, 30),\n",
    "                   font=('Helvetica', 18))\n",
    "\n",
    "lb_codigo = ttk.Label(formSalvar, \n",
    "                   text=\"Código\",                     \n",
    "                   padding=(0, 15, 0, 15))\n",
    "\n",
    "tf_codigo = ttk.Entry(formSalvar, style=\"success.TEntry\", width = 50, state=\"readonly\")\n",
    "\n",
    "\n",
    "lb_nome = ttk.Label(formSalvar, \n",
    "                   text=\"Nome\",                     \n",
    "                   padding=(0, 15, 0, 15))\n",
    "\n",
    "tf_nome = ttk.Entry(formSalvar, style=\"success.TEntry\", width = 50)\n",
    "\n",
    "lb_telefone = ttk.Label(formSalvar, \n",
    "                   text=\"Telefone\",                     \n",
    "                   padding=(0, 15, 0, 15))\n",
    "\n",
    "tf_telefone = ttk.Entry(formSalvar, style=\"success.TEntry\", width = 50)\n",
    "\n",
    "bt_salvar = ttk.Button(formSalvar, text=\"Salvar\", style=\"success.TButton\", \n",
    "                       padding=(25, 10, 25, 10), command = salvarNoBD)\n",
    "bt_sair = ttk.Button(formSalvar, text=\"Sair\", style=\"danger.TButton\", padding=(25, 10, 25, 10), \n",
    "                     command = RemoverFrames)\n",
    "\n",
    "# posições\n",
    "titulo.grid(row = 0, column = 0, columnspan=2)\n",
    "lb_codigo.grid(row = 1, column = 0)\n",
    "tf_codigo.grid(row = 1, column = 1)\n",
    "lb_nome.grid(row = 2, column = 0)\n",
    "tf_nome.grid(row = 2, column = 1)\n",
    "lb_telefone.grid(row = 3, column = 0)\n",
    "tf_telefone.grid(row = 3, column = 1)\n",
    "bt_salvar.grid(row = 4, column = 0, columnspan=2)\n",
    "bt_sair.grid(row = 4, column = 1)"
   ]
  },
  {
   "cell_type": "markdown",
   "id": "2a67961f",
   "metadata": {},
   "source": [
    "### Formulário de registros"
   ]
  },
  {
   "cell_type": "code",
   "execution_count": 12,
   "id": "7af4db02",
   "metadata": {},
   "outputs": [],
   "source": [
    "formRegistros = ttk.Frame(root, width = 400, height = 400)\n",
    "# elementos\n",
    "titulo = ttk.Label(formRegistros, \n",
    "                   text=\"Proprietários cadastrados\", \n",
    "                   style=\"success.Inverse.TLabel\", \n",
    "                   padding=(100, 30, 300, 30),\n",
    "                   font=('Helvetica', 18))\n",
    "\n",
    "\n",
    "dados = ttk.Treeview(formRegistros, columns = [1, 2, 3], show='headings', style='success.Treeview')\n",
    "dados.heading(1, text = \"Código\")\n",
    "dados.heading(2, text = \"Nome\")\n",
    "dados.heading(3, text = \"Telefone\")\n",
    "\n",
    "# posições\n",
    "titulo.grid(row = 0, column = 0, columnspan=2)\n",
    "dados.grid(row = 1, column = 0)"
   ]
  },
  {
   "cell_type": "markdown",
   "id": "e1c15001",
   "metadata": {},
   "source": [
    "### Configurar e Executar o MVP"
   ]
  },
  {
   "cell_type": "code",
   "execution_count": 13,
   "id": "a4218c9f",
   "metadata": {},
   "outputs": [],
   "source": [
    "root.title(\"Meu sistema\")\n",
    "root.resizable(FALSE, FALSE)\n",
    "root.iconbitmap(\"imagens/icone.ico\")\n",
    "style = Style(\"pulse\")\n",
    "root = style.master\n",
    "root.geometry(\"650x350\")\n",
    "root.mainloop()"
   ]
  },
  {
   "cell_type": "code",
   "execution_count": null,
   "id": "63b6b605",
   "metadata": {},
   "outputs": [],
   "source": []
  }
 ],
 "metadata": {
  "kernelspec": {
   "display_name": "Python 3",
   "language": "python",
   "name": "python3"
  },
  "language_info": {
   "codemirror_mode": {
    "name": "ipython",
    "version": 3
   },
   "file_extension": ".py",
   "mimetype": "text/x-python",
   "name": "python",
   "nbconvert_exporter": "python",
   "pygments_lexer": "ipython3",
   "version": "3.8.5"
  }
 },
 "nbformat": 4,
 "nbformat_minor": 5
}
